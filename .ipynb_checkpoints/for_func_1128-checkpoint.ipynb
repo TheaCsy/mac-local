{
 "cells": [
  {
   "cell_type": "markdown",
   "metadata": {},
   "source": [
    "# 矩形"
   ]
  },
  {
   "cell_type": "code",
   "execution_count": 4,
   "metadata": {},
   "outputs": [
    {
     "name": "stdout",
     "output_type": "stream",
     "text": [
      "* * * * * \n",
      "* * * * * \n",
      "* * * * * \n",
      "* * * * * \n",
      "====================\n"
     ]
    }
   ],
   "source": [
    "for i in range(1,5):\n",
    "    for j in range(1,6):\n",
    "        print('*',end=\" \")\n",
    "    print()  #print('/n') 多换一行\n",
    "print('='*20)"
   ]
  },
  {
   "cell_type": "markdown",
   "metadata": {},
   "source": [
    "## 空心矩形"
   ]
  },
  {
   "cell_type": "code",
   "execution_count": 15,
   "metadata": {},
   "outputs": [
    {
     "name": "stdout",
     "output_type": "stream",
     "text": [
      "* * * * * \n",
      "*       * \n",
      "*       * \n",
      "* * * * * \n"
     ]
    }
   ],
   "source": [
    "for i in range(1,5):\n",
    "    for j in range(1,6):\n",
    "        if i ==1 or i==4 or j==1 or j==5:\n",
    "            print('*',end=\" \")\n",
    "        else:\n",
    "            print(' ',end=\" \")\n",
    "    print()"
   ]
  },
  {
   "cell_type": "code",
   "execution_count": 17,
   "metadata": {},
   "outputs": [
    {
     "name": "stdout",
     "output_type": "stream",
     "text": [
      "* * * * * \n",
      "*       * \n",
      "*       * \n",
      "* * * * * \n"
     ]
    }
   ],
   "source": [
    "for i in range(1,5):\n",
    "    for j in range(1,6):\n",
    "        if i ==1 or i==4 :\n",
    "            print('*',end=\" \")\n",
    "        else:\n",
    "            if j==1 or j==5:\n",
    "                print('*',end=\" \")\n",
    "            else:\n",
    "                print(' ',end=' ')\n",
    "    print()"
   ]
  },
  {
   "cell_type": "markdown",
   "metadata": {},
   "source": [
    "# 直角三角形"
   ]
  },
  {
   "cell_type": "code",
   "execution_count": 25,
   "metadata": {},
   "outputs": [
    {
     "name": "stdout",
     "output_type": "stream",
     "text": [
      "* \n",
      "* * \n",
      "* * * \n",
      "* * * * \n",
      "* * * * * \n"
     ]
    }
   ],
   "source": [
    "for i in range(1,6):\n",
    "    for j in range(6-i,6):\n",
    "        print('*',end=\" \")\n",
    "    print()"
   ]
  },
  {
   "cell_type": "code",
   "execution_count": 28,
   "metadata": {},
   "outputs": [
    {
     "name": "stdout",
     "output_type": "stream",
     "text": [
      "* \n",
      "* * \n",
      "*   * \n",
      "*     * \n",
      "* * * * * \n"
     ]
    }
   ],
   "source": [
    "for i in range(1,6):\n",
    "    for j in range(6-i,6):\n",
    "        if i==1 or i==5 or j==6-i or j==5:\n",
    "            print('*',end=\" \")\n",
    "        else:\n",
    "            print(' ',end=\" \")\n",
    "    print()"
   ]
  },
  {
   "cell_type": "code",
   "execution_count": 30,
   "metadata": {},
   "outputs": [
    {
     "name": "stdout",
     "output_type": "stream",
     "text": [
      "* * * * * \n",
      "* * * * \n",
      "* * * \n",
      "* * \n",
      "* \n"
     ]
    }
   ],
   "source": [
    "for i in range(1,6):\n",
    "    for j in range(1,7-i):\n",
    "        print('*',end=\" \")\n",
    "    print()"
   ]
  },
  {
   "cell_type": "code",
   "execution_count": 53,
   "metadata": {},
   "outputs": [
    {
     "name": "stdout",
     "output_type": "stream",
     "text": [
      "* * * * * \n",
      "*     * \n",
      "*   * \n",
      "* * \n",
      "* \n"
     ]
    }
   ],
   "source": [
    "for i in range(1,6):\n",
    "    for j in range(1,7-i):\n",
    "        if i==1 or j==1 or j == 7-i-1:\n",
    "            print('*',end=\" \")\n",
    "        else:\n",
    "            print(' ',end=' ')\n",
    "    print()"
   ]
  },
  {
   "cell_type": "markdown",
   "metadata": {},
   "source": [
    "## 等腰三角形"
   ]
  },
  {
   "cell_type": "code",
   "execution_count": 50,
   "metadata": {},
   "outputs": [
    {
     "name": "stdout",
     "output_type": "stream",
     "text": [
      "    * \n",
      "   * * \n",
      "  * * * \n",
      " * * * * \n",
      "* * * * * \n"
     ]
    }
   ],
   "source": [
    "for i in range (1,6):\n",
    "    for j in range(1,6-i):\n",
    "        print(' ',end='')\n",
    "    for k in range(6-i,6):\n",
    "        print('*',end=\" \")\n",
    "    print()"
   ]
  },
  {
   "cell_type": "code",
   "execution_count": 52,
   "metadata": {},
   "outputs": [
    {
     "name": "stdout",
     "output_type": "stream",
     "text": [
      "    * \n",
      "   * * \n",
      "  *   * \n",
      " *     * \n",
      "* * * * * \n"
     ]
    }
   ],
   "source": [
    "for i in range (1,6):\n",
    "    for j in range(1,6-i):\n",
    "        print(' ',end='')\n",
    "    for k in range(6-i,6):\n",
    "        if i ==5 or k==6-i or k==5:\n",
    "            print('*',end=\" \")\n",
    "        else:\n",
    "            print(' ',end=\" \")\n",
    "    print()"
   ]
  },
  {
   "cell_type": "code",
   "execution_count": 56,
   "metadata": {},
   "outputs": [
    {
     "name": "stdout",
     "output_type": "stream",
     "text": [
      "    * \n",
      "   * * \n",
      "  * * * \n",
      " *     * \n",
      "*       * \n"
     ]
    }
   ],
   "source": [
    "for i in range (1,6):\n",
    "    for j in range(1,6-i):\n",
    "        print(' ',end='')\n",
    "    for k in range(6-i,6):\n",
    "        if i ==3 or k==6-i or k==5: #打印字母A\n",
    "            print('*',end=\" \")\n",
    "        else:\n",
    "            print(' ',end=\" \")\n",
    "    print()"
   ]
  },
  {
   "cell_type": "code",
   "execution_count": 62,
   "metadata": {},
   "outputs": [
    {
     "name": "stdout",
     "output_type": "stream",
     "text": [
      "    * \n",
      "   * * \n",
      "  * * * \n",
      " * * * * \n",
      "* * * * * \n",
      "--------------------\n",
      "* * * * * \n",
      " * * * * \n",
      "  * * * \n",
      "   * * \n",
      "    * \n"
     ]
    }
   ],
   "source": [
    "for i in range (1,6):\n",
    "    for j in range(1,6-i):\n",
    "        print(' ',end='')\n",
    "    for k in range(6-i,6):\n",
    "        print('*',end=\" \")\n",
    "    print()\n",
    "print('-'*20)\n",
    "for i in range (1,6):\n",
    "    for j in range(6-i+1,6):\n",
    "        print(' ',end='')\n",
    "    for k in range(1,6-i+1):\n",
    "        print('*',end=' ')\n",
    "    print()"
   ]
  },
  {
   "cell_type": "code",
   "execution_count": 64,
   "metadata": {},
   "outputs": [
    {
     "name": "stdout",
     "output_type": "stream",
     "text": [
      "    * \n",
      "   * * \n",
      "  * * * \n",
      " * * * * \n",
      "* * * * * \n",
      " * * * * \n",
      "  * * * \n",
      "   * * \n",
      "    * \n"
     ]
    }
   ],
   "source": [
    "for i in range (1,6):\n",
    "    for j in range(1,6-i):\n",
    "        print(' ',end='')\n",
    "    for k in range(6-i,6):\n",
    "        print('*',end=\" \")\n",
    "    print()\n",
    "#print('-'*20)\n",
    "for i in range (1,5):\n",
    "    for j in range(5-i,5):\n",
    "        print(' ',end='')\n",
    "    for k in range(1,5-i+1):\n",
    "        print('*',end=' ')\n",
    "    print()"
   ]
  },
  {
   "cell_type": "code",
   "execution_count": 76,
   "metadata": {},
   "outputs": [
    {
     "name": "stdout",
     "output_type": "stream",
     "text": [
      "(Type 0 to end)\n",
      "Please input SQUARE or TRIANGLE or DIAMOND:DIAMOND\n",
      "    * \n",
      "   * * \n",
      "  * * * \n",
      " * * * * \n",
      "* * * * * \n",
      " * * * * \n",
      "  * * * \n",
      "   * * \n",
      "    * \n"
     ]
    }
   ],
   "source": [
    "def square():\n",
    "    for i in range(1,5):\n",
    "        for j in range(1,6):\n",
    "            print('*',end=\" \")\n",
    "        print()\n",
    "def triangle():\n",
    "    for i in range(1,6):\n",
    "        for j in range(6-i,6):\n",
    "            print('*',end=\" \")\n",
    "        print()\n",
    "def diamond():\n",
    "    for i in range (1,6):\n",
    "        for j in range(1,6-i):\n",
    "            print(' ',end='')\n",
    "        for k in range(6-i,6):\n",
    "            print('*',end=\" \")\n",
    "        print()\n",
    "    for i in range (1,5):\n",
    "        for j in range(5-i,5):\n",
    "            print(' ',end='')\n",
    "        for k in range(1,5-i+1):\n",
    "            print('*',end=' ')\n",
    "        print()\n",
    "\n",
    "print('(Type 0 to end)')\n",
    "shape=input('Please input SQUARE or TRIANGLE or DIAMOND:')\n",
    "\n",
    "if shape=='SQUARE':\n",
    "    square()\n",
    "elif shape=='TRIANGLE':\n",
    "    triangle()\n",
    "elif shape=='DIAMOND':\n",
    "    diamond()\n",
    "else:\n",
    "    print('INVALID')"
   ]
  },
  {
   "cell_type": "code",
   "execution_count": null,
   "metadata": {},
   "outputs": [],
   "source": []
  }
 ],
 "metadata": {
  "kernelspec": {
   "display_name": "Python 3",
   "language": "python",
   "name": "python3"
  },
  "language_info": {
   "codemirror_mode": {
    "name": "ipython",
    "version": 3
   },
   "file_extension": ".py",
   "mimetype": "text/x-python",
   "name": "python",
   "nbconvert_exporter": "python",
   "pygments_lexer": "ipython3",
   "version": "3.7.0"
  }
 },
 "nbformat": 4,
 "nbformat_minor": 2
}
