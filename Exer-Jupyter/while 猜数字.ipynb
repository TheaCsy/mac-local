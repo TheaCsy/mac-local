{
 "cells": [
  {
   "cell_type": "code",
   "execution_count": 2,
   "metadata": {},
   "outputs": [
    {
     "name": "stdout",
     "output_type": "stream",
     "text": [
      "4\n",
      "52\n",
      "5\n",
      "2\n"
     ]
    }
   ],
   "source": [
    "print(452//100)\n",
    "print(452%100)\n",
    "print(452%100//10)\n",
    "print(452%10)"
   ]
  },
  {
   "cell_type": "code",
   "execution_count": 3,
   "metadata": {},
   "outputs": [
    {
     "name": "stdout",
     "output_type": "stream",
     "text": [
      "enter your name: Chen\n",
      "Hello Chen\n"
     ]
    }
   ],
   "source": [
    "name = input(\"enter your name: \")\n",
    "print(\"Hello \"+ name)"
   ]
  },
  {
   "cell_type": "code",
   "execution_count": 6,
   "metadata": {},
   "outputs": [
    {
     "name": "stdout",
     "output_type": "stream",
     "text": [
      "PLS enter number: 1\n",
      "Your number is SMALLER\n",
      "PLS enter number: 1\n",
      "Your number is SMALLER\n",
      "PLS enter number: 1\n",
      "Your number is SMALLER\n",
      "Times run out\n"
     ]
    }
   ],
   "source": [
    "import random\n",
    "\n",
    "secret = random.randint(0,10)\n",
    "\n",
    "times = 3\n",
    "\n",
    "while times:\n",
    "    num = (input(\"PLS enter number: \"))\n",
    "    if num.isdigit():\n",
    "        tmp=int(num)\n",
    "        if tmp == secret:\n",
    "            print(\"Bingo\")\n",
    "            break\n",
    "        elif tmp < secret:\n",
    "            print(\"Your number is SMALLER\")\n",
    "            times = times - 1\n",
    "        else: \n",
    "            print(\"TOO BIG\")\n",
    "            times = times - 1\n",
    "    else:\n",
    "        print(\"enter NUM!!!\")\n",
    "\n",
    "print(\"Times run out\")"
   ]
  },
  {
   "cell_type": "code",
   "execution_count": null,
   "metadata": {},
   "outputs": [],
   "source": []
  }
 ],
 "metadata": {
  "kernelspec": {
   "display_name": "Python 3",
   "language": "python",
   "name": "python3"
  },
  "language_info": {
   "codemirror_mode": {
    "name": "ipython",
    "version": 3
   },
   "file_extension": ".py",
   "mimetype": "text/x-python",
   "name": "python",
   "nbconvert_exporter": "python",
   "pygments_lexer": "ipython3",
   "version": "3.7.0"
  }
 },
 "nbformat": 4,
 "nbformat_minor": 2
}
