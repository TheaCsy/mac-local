{
 "cells": [
  {
   "cell_type": "code",
   "execution_count": 18,
   "metadata": {},
   "outputs": [
    {
     "name": "stdout",
     "output_type": "stream",
     "text": [
      "153\n",
      "370\n",
      "371\n",
      "407\n"
     ]
    }
   ],
   "source": [
    "# 水仙花数：一个三位数的个十百位各自的三次方相加等于这个三位数，则称其为水仙花数\n",
    "\n",
    "for i in range (100,1000):\n",
    "    a = i // 100\n",
    "    b = i % 100 // 10\n",
    "    c = i % 10\n",
    "    if a**3 + b**3 + c**3 == i:\n",
    "        print(i)\n",
    "    else:\n",
    "        pass"
   ]
  },
  {
   "cell_type": "code",
   "execution_count": 20,
   "metadata": {},
   "outputs": [
    {
     "name": "stdout",
     "output_type": "stream",
     "text": [
      "153\n",
      "370\n",
      "371\n",
      "407\n"
     ]
    }
   ],
   "source": [
    "# 水仙花数2\n",
    "\n",
    "for i in range(100,1000):\n",
    "    temp = list(str(i))\n",
    "    a = int(temp[0])\n",
    "    b = int(temp[1])\n",
    "    c = int(temp[2])\n",
    "    if a**3 + b**3 + c**3 == i:\n",
    "        print(i)\n",
    "    else:\n",
    "        pass\n",
    "    "
   ]
  },
  {
   "cell_type": "code",
   "execution_count": 15,
   "metadata": {},
   "outputs": [
    {
     "name": "stdout",
     "output_type": "stream",
     "text": [
      "['8', '3', '9']\n"
     ]
    }
   ],
   "source": [
    "i = 839\n",
    "temp = list(str(i))\n",
    "print(temp)"
   ]
  },
  {
   "cell_type": "code",
   "execution_count": 22,
   "metadata": {},
   "outputs": [
    {
     "name": "stdout",
     "output_type": "stream",
     "text": [
      "red:{}.format(red)\n",
      "yellow:{}.format(yel)\n",
      "green:{}.format(gre)\n",
      "red:{}.format(red)\n",
      "yellow:{}.format(yel)\n",
      "green:{}.format(gre)\n",
      "red:{}.format(red)\n",
      "yellow:{}.format(yel)\n",
      "green:{}.format(gre)\n",
      "red:{}.format(red)\n",
      "yellow:{}.format(yel)\n",
      "green:{}.format(gre)\n",
      "red:{}.format(red)\n",
      "yellow:{}.format(yel)\n",
      "green:{}.format(gre)\n",
      "red:{}.format(red)\n",
      "yellow:{}.format(yel)\n",
      "green:{}.format(gre)\n",
      "red:{}.format(red)\n",
      "yellow:{}.format(yel)\n",
      "green:{}.format(gre)\n",
      "red:{}.format(red)\n",
      "yellow:{}.format(yel)\n",
      "green:{}.format(gre)\n",
      "red:{}.format(red)\n",
      "yellow:{}.format(yel)\n",
      "green:{}.format(gre)\n",
      "red:{}.format(red)\n",
      "yellow:{}.format(yel)\n",
      "green:{}.format(gre)\n",
      "red:{}.format(red)\n",
      "yellow:{}.format(yel)\n",
      "green:{}.format(gre)\n",
      "red:{}.format(red)\n",
      "yellow:{}.format(yel)\n",
      "green:{}.format(gre)\n",
      "red:{}.format(red)\n",
      "yellow:{}.format(yel)\n",
      "green:{}.format(gre)\n"
     ]
    }
   ],
   "source": [
    "# 三色球： 红*3 黄*3 绿*6 ，任意摸出8个，编程计算颜色搭配\n",
    "\n",
    "for red in range(0,4):\n",
    "    for yel in range(0,4):\n",
    "        for gre in range(2,7):  #最少两个，因红黄共只有6个球\n",
    "            if red + yel + gre == 8:\n",
    "                print(\"red:{}\".format(red))\n",
    "                print(\"yellow:{}\".format(yel))\n",
    "                print(\"green:{}\".format(gre))\n",
    "            "
   ]
  },
  {
   "cell_type": "code",
   "execution_count": null,
   "metadata": {},
   "outputs": [],
   "source": []
  }
 ],
 "metadata": {
  "kernelspec": {
   "display_name": "Python 3",
   "language": "python",
   "name": "python3"
  },
  "language_info": {
   "codemirror_mode": {
    "name": "ipython",
    "version": 3
   },
   "file_extension": ".py",
   "mimetype": "text/x-python",
   "name": "python",
   "nbconvert_exporter": "python",
   "pygments_lexer": "ipython3",
   "version": "3.7.0"
  }
 },
 "nbformat": 4,
 "nbformat_minor": 2
}
