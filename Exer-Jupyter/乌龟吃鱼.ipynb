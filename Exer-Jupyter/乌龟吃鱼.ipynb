{
 "cells": [
  {
   "cell_type": "markdown",
   "metadata": {},
   "source": [
    "# 门票定价\n",
    "\n",
    "    门票的原价是100元\n",
    "    当周末的时候门票涨价20%\n",
    "    小孩子半票\n",
    "    计算2个成人和1个小孩的平日票价"
   ]
  },
  {
   "cell_type": "code",
   "execution_count": 3,
   "metadata": {},
   "outputs": [
    {
     "name": "stdout",
     "output_type": "stream",
     "text": [
      "2 adult & 1 child cost 250.0 in total\n"
     ]
    }
   ],
   "source": [
    "class Ticket():\n",
    "    def __init__(self,weekend=False,child=False):\n",
    "        self.exp = 100\n",
    "        if weekend:\n",
    "            self.inc = 1.2\n",
    "        else:\n",
    "            self.inc = 1\n",
    "        if child:\n",
    "            self.dis = 0.5\n",
    "        else:\n",
    "            self.dis = 1\n",
    "    \n",
    "    def cal_price(self,num):\n",
    "        return self.exp * self.inc * self.dis * num\n",
    "\n",
    "adult = Ticket()\n",
    "child = Ticket(child=True)\n",
    "\n",
    "print(\"2 adult & 1 child cost {} in total\".format(adult.cal_price(2)+child.cal_price(1)))\n",
    "    \n"
   ]
  },
  {
   "cell_type": "markdown",
   "metadata": {},
   "source": [
    "# 游戏编程：按一下要求定义一个乌龟类和鱼类并尝试编程\n",
    "    假设游戏场景为范围(x,y)为 0<=x<=10,0<=y<=10\n",
    "    游戏生成1只乌龟和10条鱼\n",
    "    他们的移动方向均随机\n",
    "    乌龟的最大移动能力是2（乌龟可以随机选择移动是1还是2），鱼的最大移动能力是1\n",
    "    当移动到场景边缘，自动向反方向移动\n",
    "    乌龟初始化体力为100（上限）\n",
    "    乌龟每移动一次，体力消耗1\n",
    "    当乌龟和鱼重叠，乌龟吃掉鱼，乌龟体力增加20\n",
    "    鱼不计算体力\n",
    "    当乌龟体力值为0或者鱼的数量为0时，游戏结束"
   ]
  },
  {
   "cell_type": "code",
   "execution_count": 8,
   "metadata": {},
   "outputs": [
    {
     "name": "stdout",
     "output_type": "stream",
     "text": [
      "A fish is eaten\n",
      "A fish is eaten\n",
      "A fish is eaten\n",
      "A fish is eaten\n",
      "A fish is eaten\n",
      "A fish is eaten\n",
      "A fish is eaten\n",
      "A fish is eaten\n",
      "A fish is eaten\n",
      "A fish is eaten\n",
      "Fish EATEN UP, GG\n"
     ]
    }
   ],
   "source": [
    "import random as r\n",
    "\n",
    "class Turtle():\n",
    "    def __init__(self):\n",
    "        self.power = 100\n",
    "        self.x = r.randint(0,10)\n",
    "        self.y = r.randint(0,10)\n",
    "        \n",
    "    def move(self):\n",
    "        new_x = r.choice([1,2,-1,-2]) + self.x\n",
    "        new_y = r.choice([1,2,-1,-2]) + self.y\n",
    "    \n",
    "    # 检测边界\n",
    "        if new_x < 0:\n",
    "            self.x = 0 - (new_x - 0)\n",
    "        elif new_x > 10:\n",
    "            self.x = 10 - (new_x -10)\n",
    "        else:\n",
    "            self.x = new_x\n",
    "            \n",
    "        if new_y < 0:\n",
    "            self.y = 0 - (new_y - 0)\n",
    "        elif new_y > 10:\n",
    "            self.y = 10 - (new_y -10)\n",
    "        else:\n",
    "            self.y = new_y\n",
    "        \n",
    "        self.power -= 1\n",
    "        return(self.x, self.y)\n",
    "    \n",
    "    def eat(self):\n",
    "        self.power += 20\n",
    "        if self.power >= 100:\n",
    "            self.power = 100\n",
    "            \n",
    "class Fish():\n",
    "    def __init__(self):\n",
    "        self.x = r.randint(0,10)\n",
    "        self.y = r.randint(0,10)\n",
    "    \n",
    "    def move(self):\n",
    "        new_x = r.choice([1,-1]) + self.x\n",
    "        new_y = r.choice([1,-1]) + self.y\n",
    "        \n",
    "        if new_x < 0:\n",
    "            self.x = 0 - (new_x - 0)\n",
    "        elif new_x > 10:\n",
    "            self.x = 10 - (new_x -10)\n",
    "        else:\n",
    "            self.x = new_x\n",
    "            \n",
    "        if new_y < 0:\n",
    "            self.y = 0 - (new_y - 0)\n",
    "        elif new_y > 10:\n",
    "            self.y = 10 - (new_y -10)\n",
    "        else:\n",
    "            self.y = new_y\n",
    "        return (self.x, self.y)\n",
    "\n",
    "turtle = Turtle()\n",
    "fish = []\n",
    "for i in range(10):\n",
    "    new_fish = Fish()\n",
    "    fish.append(new_fish)\n",
    "    \n",
    "while True:\n",
    "    if not len(fish):\n",
    "        print(\"Fish EATEN UP, GG\")\n",
    "        break\n",
    "    if not turtle.power:\n",
    "        print(\"Turtle POWER OUT, GG\")\n",
    "        break\n",
    "    \n",
    "    pos = turtle.move()\n",
    "    \n",
    "    #迭代器中，做列表删除操作，建议做备份而非直接引用列表元素\n",
    "    for each_fish in fish[:]:\n",
    "        if each_fish.move() == pos:\n",
    "            turtle.eat()\n",
    "            fish.remove(each_fish)\n",
    "            print(\"A fish is eaten\")\n",
    "            "
   ]
  },
  {
   "cell_type": "markdown",
   "metadata": {},
   "source": [
    "# 定义一个点（point）和直线（Line）类\n",
    "    使用getLen方法获取两点构成直线的长度"
   ]
  },
  {
   "cell_type": "code",
   "execution_count": 14,
   "metadata": {},
   "outputs": [
    {
     "data": {
      "text/plain": [
       "5.0"
      ]
     },
     "execution_count": 14,
     "metadata": {},
     "output_type": "execute_result"
    }
   ],
   "source": [
    "import math\n",
    "\n",
    "class Point():\n",
    "    def __init__(self,x=0,y=0):\n",
    "        self.x = x\n",
    "        self.y = y\n",
    "    \n",
    "    def get_x(self):\n",
    "        return self.x\n",
    "    def get_y(self):\n",
    "        return self.y\n",
    "    \n",
    "class Line():\n",
    "    def __init__(self,p1,p2):\n",
    "        self.x = p1.get_x() - p2.get_x()\n",
    "        self.y = p1.get_y() - p2.get_y()\n",
    "        \n",
    "        self.len = math.sqrt(self.x*self.x + self.y*self.y)\n",
    "        \n",
    "    def get_len(self):\n",
    "        return self.len\n",
    "\n",
    "p1 = Point(2,3)\n",
    "p2 = Point(5,7)\n",
    "line = Line(p1,p2)\n",
    "line.get_len()"
   ]
  },
  {
   "cell_type": "code",
   "execution_count": null,
   "metadata": {},
   "outputs": [],
   "source": []
  }
 ],
 "metadata": {
  "kernelspec": {
   "display_name": "Python 3",
   "language": "python",
   "name": "python3"
  },
  "language_info": {
   "codemirror_mode": {
    "name": "ipython",
    "version": 3
   },
   "file_extension": ".py",
   "mimetype": "text/x-python",
   "name": "python",
   "nbconvert_exporter": "python",
   "pygments_lexer": "ipython3",
   "version": "3.7.0"
  }
 },
 "nbformat": 4,
 "nbformat_minor": 2
}
