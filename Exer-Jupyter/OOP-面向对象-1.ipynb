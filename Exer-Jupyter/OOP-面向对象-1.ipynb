{
 "cells": [
  {
   "cell_type": "code",
   "execution_count": 8,
   "metadata": {},
   "outputs": [
    {
     "name": "stdout",
     "output_type": "stream",
     "text": [
      "Ada\n",
      "18\n",
      "90\n"
     ]
    }
   ],
   "source": [
    "# 定义一个类，并赋予属性\n",
    "\n",
    "class Student(object):\n",
    "        def __init__(self,name,age,scores):\n",
    "            self.name = name\n",
    "            self.age = age\n",
    "            self.scores = scores\n",
    "        def get_name(self):\n",
    "            return self.name\n",
    "        def get_age(self):\n",
    "            return self.age\n",
    "        def get_scores(self):\n",
    "            return max(self.scores)\n",
    "    \n",
    "ada = Student(\"Ada\",18,[88,90,50])\n",
    "print(ada.get_name())\n",
    "print(ada.get_age())\n",
    "print(ada.get_scores())"
   ]
  },
  {
   "cell_type": "code",
   "execution_count": 10,
   "metadata": {},
   "outputs": [
    {
     "name": "stdout",
     "output_type": "stream",
     "text": [
      "deleted\n",
      "1\n",
      "dict_keys(['a', 'b'])\n",
      "dict_values([1, 2, 3])\n"
     ]
    }
   ],
   "source": [
    "# 定义一个字典类：DictClass\n",
    "\n",
    "class DictClass(object):\n",
    "    def __init__(self,dict):\n",
    "        self.dict = dict\n",
    "        \n",
    "    def del_dict(self,key):\n",
    "        if key not in self.dict.keys():\n",
    "            return \"key is not in dict\"\n",
    "        else:\n",
    "            self.dict.pop(key)\n",
    "            return \"deleted\"\n",
    "        \n",
    "    def get_dict(self,key):\n",
    "        if key not in self.dict.keys():\n",
    "            return \"not found\"\n",
    "        else:\n",
    "            return self.dict[key]\n",
    "        \n",
    "    def get_key(self):\n",
    "        return self.dict.keys()\n",
    "    \n",
    "    def update_dict(self,dict2):\n",
    "        self.dict = dict(self.dict,**dict2)\n",
    "        return self.dict.values()\n",
    "            \n",
    "d= DictClass({\"a\":1,\"b\":2,\"c\":3})\n",
    "print(d.del_dict(\"c\"))\n",
    "print(d.get_dict(\"a\"))\n",
    "print(d.get_key())\n",
    "print(d.update_dict({\"c\":3}))"
   ]
  },
  {
   "cell_type": "code",
   "execution_count": 29,
   "metadata": {},
   "outputs": [
    {
     "name": "stdout",
     "output_type": "stream",
     "text": [
      "[1, 2, 3, 4, 5, 6, 7]\n",
      "okay\n",
      "4\n",
      "[1, 2, 3, 4, 5, 6, 7, 8, 9]\n",
      "9\n"
     ]
    }
   ],
   "source": [
    "# 定义一个列表类ListInfo\n",
    "\n",
    "class ListInfo(object):\n",
    "    \n",
    "    def __init__(self, ls_val):\n",
    "        self.list = ls_val\n",
    "    \n",
    "    def add_key(self, key_name):\n",
    "        if isinstance(key_name,(str,int)):  #限制添加的格式\n",
    "            self.list.append(key_name) # extend 合并两个列表，append把dict2作为一个元素加入尾部\n",
    "            print(self.list)\n",
    "            return \"okay\"\n",
    "        else:\n",
    "            return \"wrong type\"\n",
    "    \n",
    "    def get_key(self,index):\n",
    "        if index >= 0 and index < len(self.list):\n",
    "            return self.list[index]\n",
    "        else:\n",
    "            return \"number out of range\"\n",
    "            \n",
    "    def update_list(self,list2):\n",
    "        self.list.extend(list2)\n",
    "        return self.list\n",
    "    \n",
    "    def del_key(self):\n",
    "        if len(self.list) >= 0:\n",
    "            return self.list.pop()\n",
    "        else:\n",
    "            return \"Empty list\"\n",
    "\n",
    "    \n",
    "l1 = ListInfo([1,2,3,4,5,6])\n",
    "print(l1.add_key(7))\n",
    "print(l1.get_key(3))\n",
    "print(l1.update_list([8,9]))\n",
    "print(l1.del_key())"
   ]
  },
  {
   "cell_type": "code",
   "execution_count": 43,
   "metadata": {},
   "outputs": [
    {
     "name": "stdout",
     "output_type": "stream",
     "text": [
      "{1, 2, 3, 4, 5, 6}\n",
      "{6}\n",
      "{1, 2, 3, 4, 5, 6, 7}\n",
      "{1, 2, 3}\n"
     ]
    }
   ],
   "source": [
    "# 定义一个集合类\n",
    "\n",
    "class SecInfo(object):\n",
    "    def __init__(self,myset):\n",
    "        self.sett = myset\n",
    "    \n",
    "    def add_setinfo(self,keyname):\n",
    "        self.sett.add(keyname)\n",
    "        return self.sett\n",
    "    \n",
    "    def get_intersec(self,set2):\n",
    "        if isinstance(set2,set):\n",
    "            return self.sett & set2  # 同 self.sett.intersection(set2)\n",
    "        else:\n",
    "            return \"TYPE ERROR\"\n",
    "    \n",
    "    def get_unionsec(self,set3):\n",
    "        if isinstance(set3,set):\n",
    "            return self.sett | set3  # 同 self.sett.union(set3)\n",
    "        else:\n",
    "            return \"TYPE ERROR\"\n",
    "        \n",
    "    def del_differ(self,set4):\n",
    "        if isinstance(set4,set):\n",
    "            return self.sett - set4\n",
    "        else:\n",
    "            return \"TYPE ERROR\"\n",
    "    \n",
    "    \n",
    "A = set([1,2,3,4,5])    \n",
    "B = set([9,8,7,6])\n",
    "C = set([4,5,6,7])\n",
    "D = set([4,5,6,8,9])\n",
    "s1 = SecInfo(A)\n",
    "print(s1.add_setinfo(6))\n",
    "print(s1.get_intersec(B))\n",
    "print(s1.get_unionsec(C))\n",
    "print(s1.del_differ(D))"
   ]
  },
  {
   "cell_type": "code",
   "execution_count": null,
   "metadata": {},
   "outputs": [],
   "source": []
  }
 ],
 "metadata": {
  "kernelspec": {
   "display_name": "Python 3",
   "language": "python",
   "name": "python3"
  },
  "language_info": {
   "codemirror_mode": {
    "name": "ipython",
    "version": 3
   },
   "file_extension": ".py",
   "mimetype": "text/x-python",
   "name": "python",
   "nbconvert_exporter": "python",
   "pygments_lexer": "ipython3",
   "version": "3.7.0"
  }
 },
 "nbformat": 4,
 "nbformat_minor": 2
}
