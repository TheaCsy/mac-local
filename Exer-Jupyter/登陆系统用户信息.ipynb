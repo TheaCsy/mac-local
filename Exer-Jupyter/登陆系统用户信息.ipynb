{
 "cells": [
  {
   "cell_type": "code",
   "execution_count": 14,
   "metadata": {},
   "outputs": [
    {
     "name": "stdout",
     "output_type": "stream",
     "text": [
      "Congrats! You have just become one of us!\n",
      "{'abbey': 'password', 'ben': 'admin', 'cici': 'pss'}\n",
      "Log in successfully\n"
     ]
    }
   ],
   "source": [
    "# 模拟一个数据库\n",
    "\n",
    "user_pass = {\"abbey\":\"password\",\"ben\":\"admin\"}\n",
    "\n",
    "def create_user(username,pwd):\n",
    "    usernames = user_pass.keys() # 检测输入用户名是否已经存在\n",
    "    if username in usernames:\n",
    "        print(\"Username existed already\")\n",
    "    else:\n",
    "        print(\"Congrats! You have just become one of us!\")\n",
    "        user_pass[username] = pwd\n",
    "\n",
    "create_user(\"cici\",\"pss\")\n",
    "print(user_pass)\n",
    "\n",
    "def login_user(username,pwd):\n",
    "    usernames = user_pass.keys()\n",
    "    if username not in usernames:\n",
    "        print(\"Sorry, you are not a member\")\n",
    "    elif pwd != user_pass[username]:\n",
    "        print(\"Incorrect Password\")\n",
    "    else:\n",
    "        print(\"Log in successfully\")\n",
    "\n",
    "login_user(\"cici\",\"pss\")"
   ]
  },
  {
   "cell_type": "code",
   "execution_count": 17,
   "metadata": {},
   "outputs": [
    {
     "name": "stdout",
     "output_type": "stream",
     "text": [
      "Enter new username: abbey\n",
      "Username existed already\n"
     ]
    }
   ],
   "source": [
    "user_pass = {\"abbey\":\"password\",\"ben\":\"admin\"}\n",
    "\n",
    "def create_user():\n",
    "    usernames = user_pass.keys() # 检测输入用户名是否已经存在\n",
    "    username = input(\"Enter new username: \")\n",
    "    if username in usernames:\n",
    "        print(\"Username existed already\")\n",
    "    else:\n",
    "        pwd = input(\"Enter new password: \")\n",
    "        print(\"Congrats! You have just become one of us!\")\n",
    "        user_pass[username] = pwd\n",
    "create_user()\n"
   ]
  },
  {
   "cell_type": "code",
   "execution_count": null,
   "metadata": {},
   "outputs": [],
   "source": []
  }
 ],
 "metadata": {
  "kernelspec": {
   "display_name": "Python 3",
   "language": "python",
   "name": "python3"
  },
  "language_info": {
   "codemirror_mode": {
    "name": "ipython",
    "version": 3
   },
   "file_extension": ".py",
   "mimetype": "text/x-python",
   "name": "python",
   "nbconvert_exporter": "python",
   "pygments_lexer": "ipython3",
   "version": "3.7.0"
  }
 },
 "nbformat": 4,
 "nbformat_minor": 2
}
