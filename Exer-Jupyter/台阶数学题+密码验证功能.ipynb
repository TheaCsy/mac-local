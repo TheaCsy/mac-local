{
 "cells": [
  {
   "cell_type": "code",
   "execution_count": 2,
   "metadata": {},
   "outputs": [
    {
     "name": "stdout",
     "output_type": "stream",
     "text": [
      "1, 3, 5, 7, 9, 11, 13, 15, 17, 19, 21, 23, 25, 27, 29, 31, 33, 35, 37, 39, 41, 43, 45, 47, 49, 51, 53, 55, 57, 59, 61, 63, 65, 67, 69, 71, 73, 75, 77, 79, 81, 83, 85, 87, 89, 91, 93, 95, 97, 99, "
     ]
    }
   ],
   "source": [
    "for i in range(0,100):\n",
    "    if i%2 == 1:\n",
    "        print(i, end=\", \")\n",
    "    else:\n",
    "        pass"
   ]
  },
  {
   "cell_type": "code",
   "execution_count": 5,
   "metadata": {},
   "outputs": [
    {
     "name": "stdout",
     "output_type": "stream",
     "text": [
      "119\n",
      "329\n",
      "539\n",
      "749\n",
      "959\n",
      "That is the end.\n"
     ]
    }
   ],
   "source": [
    "# 爱因斯坦数学题\n",
    "\n",
    "x = 0\n",
    "while x < 1000:\n",
    "    if x % 2 == 1 \\\n",
    "    and x % 3 == 2 \\\n",
    "    and x % 5 == 4 \\\n",
    "    and x % 6 == 5 \\\n",
    "    and x % 7 == 0:\n",
    "        print(x)\n",
    "        x += 1\n",
    "        # 插入break即计算第一个满足条件的数字后立即结束\n",
    "    else:\n",
    "        x += 1\n",
    "\n",
    "print(\"That is the end.\")"
   ]
  },
  {
   "cell_type": "code",
   "execution_count": 6,
   "metadata": {},
   "outputs": [
    {
     "name": "stdout",
     "output_type": "stream",
     "text": [
      "1\n",
      "2\n",
      "3\n",
      "3\n",
      "1\n",
      "2\n"
     ]
    }
   ],
   "source": [
    "# 值的交换\n",
    "\n",
    "x = 1\n",
    "y = 2\n",
    "z = 3\n",
    "\n",
    "print(x)\n",
    "print(y)\n",
    "print(z)\n",
    "\n",
    "x,y,z=z,x,y\n",
    "\n",
    "print(x)\n",
    "print(y)\n",
    "print(z)"
   ]
  },
  {
   "cell_type": "code",
   "execution_count": 10,
   "metadata": {},
   "outputs": [
    {
     "name": "stdout",
     "output_type": "stream",
     "text": [
      "PLS enter password: 333\n",
      "Wrong password, try again\n",
      "PLS enter password: 333\n",
      "Wrong password, try again\n",
      "PLS enter password: 333\n",
      "Wrong password, try again\n",
      "Run out 3 trials.\n"
     ]
    }
   ],
   "source": [
    "# 验证密码小程序\n",
    "\n",
    "pwd = \"abc123\"\n",
    "\n",
    "times = 3\n",
    "while times:  # while后的条件如果省略为一个变量，则该变量非零非null即为TRUE，继续执行该循环\n",
    "    input_pwd = input(\"PLS enter password: \")\n",
    "    if \"*\" in input_pwd:\n",
    "        print('\"*\"cannot be included in the password')\n",
    "    else:\n",
    "        if input_pwd == pwd:\n",
    "            print(\"Correct Password\")\n",
    "            break\n",
    "        else:\n",
    "            print(\"Wrong password, try again\")\n",
    "            times -= 1\n",
    "print(\"Run out 3 trials.\")\n",
    "            "
   ]
  },
  {
   "cell_type": "code",
   "execution_count": null,
   "metadata": {},
   "outputs": [],
   "source": []
  }
 ],
 "metadata": {
  "kernelspec": {
   "display_name": "Python 3",
   "language": "python",
   "name": "python3"
  },
  "language_info": {
   "codemirror_mode": {
    "name": "ipython",
    "version": 3
   },
   "file_extension": ".py",
   "mimetype": "text/x-python",
   "name": "python",
   "nbconvert_exporter": "python",
   "pygments_lexer": "ipython3",
   "version": "3.7.0"
  }
 },
 "nbformat": 4,
 "nbformat_minor": 2
}
