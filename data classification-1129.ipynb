{
 "cells": [
  {
   "cell_type": "markdown",
   "metadata": {},
   "source": [
    "# 数据类型\n",
    "\n",
    " NUMBER 数值（int float bool complex)\n",
    " STRING 字符\n",
    " TUPLE  元组\n",
    " LIST   列表\n",
    " SET    集合\n",
    " DICT   字典"
   ]
  },
  {
   "cell_type": "markdown",
   "metadata": {},
   "source": [
    "## STRING"
   ]
  },
  {
   "cell_type": "code",
   "execution_count": 2,
   "metadata": {},
   "outputs": [
    {
     "name": "stdout",
     "output_type": "stream",
     "text": [
      "python\n"
     ]
    }
   ],
   "source": [
    "str1= 'py'\n",
    "str2= 'thon'\n",
    "print(str1+str2)"
   ]
  },
  {
   "cell_type": "code",
   "execution_count": 3,
   "metadata": {},
   "outputs": [
    {
     "name": "stdout",
     "output_type": "stream",
     "text": [
      "python\n"
     ]
    }
   ],
   "source": [
    "print('pyt'+'hon')"
   ]
  },
  {
   "cell_type": "code",
   "execution_count": 4,
   "metadata": {},
   "outputs": [
    {
     "name": "stdout",
     "output_type": "stream",
     "text": [
      "$$$$$\n"
     ]
    }
   ],
   "source": [
    "print('$'*5)"
   ]
  },
  {
   "cell_type": "code",
   "execution_count": 8,
   "metadata": {},
   "outputs": [
    {
     "name": "stdout",
     "output_type": "stream",
     "text": [
      "p\n",
      "$\n",
      "n\n"
     ]
    }
   ],
   "source": [
    "#索引\n",
    "s = 'py$thon'\n",
    "print(s[0])\n",
    "print(s[2])\n",
    "print(s[-1])"
   ]
  },
  {
   "cell_type": "code",
   "execution_count": 20,
   "metadata": {},
   "outputs": [
    {
     "name": "stdout",
     "output_type": "stream",
     "text": [
      "i$like\n",
      "i$like$python?\n",
      "i$like$python?\n",
      "ilk\n",
      "python?\n",
      "i$like\n",
      "$iepto?\n"
     ]
    }
   ],
   "source": [
    "#切片\n",
    "s = 'i$like$python?'   \n",
    "print(s[0:6])    #右侧开区间\n",
    "print(s[:])\n",
    "print(s)\n",
    "print(s[0:6:2]) #每两个取一个\n",
    "print(s[7:])\n",
    "print(s[:6])\n",
    "print(s[1::2]) "
   ]
  },
  {
   "cell_type": "code",
   "execution_count": null,
   "metadata": {},
   "outputs": [],
   "source": [
    "#字符串函数\n",
    "#help(string)\n"
   ]
  }
 ],
 "metadata": {
  "kernelspec": {
   "display_name": "Python 3",
   "language": "python",
   "name": "python3"
  },
  "language_info": {
   "codemirror_mode": {
    "name": "ipython",
    "version": 3
   },
   "file_extension": ".py",
   "mimetype": "text/x-python",
   "name": "python",
   "nbconvert_exporter": "python",
   "pygments_lexer": "ipython3",
   "version": "3.7.0"
  }
 },
 "nbformat": 4,
 "nbformat_minor": 2
}
